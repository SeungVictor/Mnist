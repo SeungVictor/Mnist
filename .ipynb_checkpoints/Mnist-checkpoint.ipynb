{
 "cells": [
  {
   "cell_type": "markdown",
   "id": "a3fd1d5b-cd9f-49c8-a3a3-e4bcb8e42cbb",
   "metadata": {},
   "source": [
    "### Import"
   ]
  },
  {
   "cell_type": "code",
   "execution_count": 1,
   "id": "88c503c3-3725-4407-864b-55bcce94e842",
   "metadata": {},
   "outputs": [],
   "source": [
    "import pandas as pd\n",
    "import warnings\n",
    "warnings.filterwarnings(action='ignore')\n",
    "import numpy as np\n",
    "import matplotlib.pyplot as plt\n",
    "plt.style.use('seaborn-white')"
   ]
  },
  {
   "cell_type": "code",
   "execution_count": 2,
   "id": "56f4d729-84fa-43f9-9cd7-6f2aa6298a00",
   "metadata": {},
   "outputs": [],
   "source": [
    "import tensorflow as tf\n",
    "from tensorflow.keras.datasets.mnist import load_data\n",
    "from tensorflow.keras.models import Sequential\n",
    "from tensorflow.keras import models\n",
    "from tensorflow.keras.utils import to_categorical\n",
    "from tensorflow.keras.utils import plot_model\n",
    "from sklearn.model_selection import train_test_split\n",
    "from tensorflow.keras.models import Model\n",
    "from tensorflow.keras.layers import Input, Flatten, Dense\n",
    "from tensorflow.keras.callbacks import EarlyStopping\n",
    "from tensorflow.keras.optimizers import RMSprop, Adam\n"
   ]
  },
  {
   "cell_type": "markdown",
   "id": "15b33ef7-e815-4493-a48f-962bb69481b7",
   "metadata": {},
   "source": [
    "### Dataload"
   ]
  },
  {
   "cell_type": "code",
   "execution_count": 3,
   "id": "ab8113db-cd9b-49b3-8383-a2c46567a16a",
   "metadata": {},
   "outputs": [
    {
     "data": {
      "text/html": [
       "<div>\n",
       "<style scoped>\n",
       "    .dataframe tbody tr th:only-of-type {\n",
       "        vertical-align: middle;\n",
       "    }\n",
       "\n",
       "    .dataframe tbody tr th {\n",
       "        vertical-align: top;\n",
       "    }\n",
       "\n",
       "    .dataframe thead th {\n",
       "        text-align: right;\n",
       "    }\n",
       "</style>\n",
       "<table border=\"1\" class=\"dataframe\">\n",
       "  <thead>\n",
       "    <tr style=\"text-align: right;\">\n",
       "      <th></th>\n",
       "      <th>file_name</th>\n",
       "      <th>label</th>\n",
       "    </tr>\n",
       "  </thead>\n",
       "  <tbody>\n",
       "    <tr>\n",
       "      <th>0</th>\n",
       "      <td>train0001.png</td>\n",
       "      <td>8</td>\n",
       "    </tr>\n",
       "    <tr>\n",
       "      <th>1</th>\n",
       "      <td>train0002.png</td>\n",
       "      <td>8</td>\n",
       "    </tr>\n",
       "    <tr>\n",
       "      <th>2</th>\n",
       "      <td>train0003.png</td>\n",
       "      <td>8</td>\n",
       "    </tr>\n",
       "    <tr>\n",
       "      <th>3</th>\n",
       "      <td>train0004.png</td>\n",
       "      <td>8</td>\n",
       "    </tr>\n",
       "    <tr>\n",
       "      <th>4</th>\n",
       "      <td>train0005.png</td>\n",
       "      <td>8</td>\n",
       "    </tr>\n",
       "  </tbody>\n",
       "</table>\n",
       "</div>"
      ],
      "text/plain": [
       "       file_name  label\n",
       "0  train0001.png      8\n",
       "1  train0002.png      8\n",
       "2  train0003.png      8\n",
       "3  train0004.png      8\n",
       "4  train0005.png      8"
      ]
     },
     "execution_count": 3,
     "metadata": {},
     "output_type": "execute_result"
    }
   ],
   "source": [
    "train = pd.read_csv('/Users/spark/OneDrive/ps/Dacon/Mnist/dataset/train/train_data.csv')\n",
    "train.head()"
   ]
  },
  {
   "cell_type": "code",
   "execution_count": 4,
   "id": "5370e6f8-003e-4bfa-9b45-5694e27d73ad",
   "metadata": {},
   "outputs": [
    {
     "data": {
      "image/png": "[encoded data removed]",
      "text/plain": [
       "<Figure size 432x288 with 1 Axes>"
      ]
     },
     "metadata": {},
     "output_type": "display_data"
    },
    {
     "name": "stdout",
     "output_type": "stream",
     "text": [
      "sample image의 모양: (28, 28)\n"
     ]
    }
   ],
   "source": [
    "from PIL import Image\n",
    "import numpy as np\n",
    "import matplotlib.pyplot as plt\n",
    "\n",
    "file_dir = '/Users/spark/OneDrive/ps/Dacon/Mnist/dataset/train/'\n",
    "sample_file = train['file_name'][0] # 0번째 인덱스 파일 이름 선택\n",
    "\n",
    "sample_image_array= np.array(Image.open(file_dir + sample_file)) # path에서 이미지를 불러온 뒤 numpy array로 변환\n",
    "\n",
    "# 이미지 출력\n",
    "plt.imshow(np.array(sample_image_array))\n",
    "plt.show()\n",
    "print('sample image의 모양:' ,sample_image_array.shape)"
   ]
  },
  {
   "cell_type": "code",
   "execution_count": 5,
   "id": "625ea69d-e6a6-4b5a-a26e-75b3786e1091",
   "metadata": {},
   "outputs": [],
   "source": [
    "images = []\n",
    "\n",
    "for image_name in train['file_name']:\n",
    "    image = np.array(Image.open(file_dir + image_name)).flatten()\n",
    "    images.append(image)"
   ]
  },
  {
   "cell_type": "code",
   "execution_count": 6,
   "id": "74b36e70-7a38-4651-99a1-e1db74479745",
   "metadata": {},
   "outputs": [],
   "source": [
    "all_images = pd.DataFrame(images)\n",
    "all_images['labels'] = train['label']"
   ]
  },
  {
   "cell_type": "code",
   "execution_count": 7,
   "id": "e7359de2-cb91-47b2-b8de-a8a8115ac2e3",
   "metadata": {},
   "outputs": [
    {
     "data": {
      "text/html": [
       "<div>\n",
       "<style scoped>\n",
       "    .dataframe tbody tr th:only-of-type {\n",
       "        vertical-align: middle;\n",
       "    }\n",
       "\n",
       "    .dataframe tbody tr th {\n",
       "        vertical-align: top;\n",
       "    }\n",
       "\n",
       "    .dataframe thead th {\n",
       "        text-align: right;\n",
       "    }\n",
       "</style>\n",
       "<table border=\"1\" class=\"dataframe\">\n",
       "  <thead>\n",
       "    <tr style=\"text-align: right;\">\n",
       "      <th></th>\n",
       "      <th>0</th>\n",
       "      <th>1</th>\n",
       "      <th>2</th>\n",
       "      <th>3</th>\n",
       "      <th>4</th>\n",
       "      <th>5</th>\n",
       "      <th>6</th>\n",
       "      <th>7</th>\n",
       "      <th>8</th>\n",
       "      <th>9</th>\n",
       "      <th>...</th>\n",
       "      <th>775</th>\n",
       "      <th>776</th>\n",
       "      <th>777</th>\n",
       "      <th>778</th>\n",
       "      <th>779</th>\n",
       "      <th>780</th>\n",
       "      <th>781</th>\n",
       "      <th>782</th>\n",
       "      <th>783</th>\n",
       "      <th>labels</th>\n",
       "    </tr>\n",
       "  </thead>\n",
       "  <tbody>\n",
       "    <tr>\n",
       "      <th>0</th>\n",
       "      <td>0</td>\n",
       "      <td>0</td>\n",
       "      <td>0</td>\n",
       "      <td>0</td>\n",
       "      <td>0</td>\n",
       "      <td>0</td>\n",
       "      <td>0</td>\n",
       "      <td>0</td>\n",
       "      <td>0</td>\n",
       "      <td>0</td>\n",
       "      <td>...</td>\n",
       "      <td>0</td>\n",
       "      <td>0</td>\n",
       "      <td>0</td>\n",
       "      <td>0</td>\n",
       "      <td>0</td>\n",
       "      <td>0</td>\n",
       "      <td>0</td>\n",
       "      <td>0</td>\n",
       "      <td>0</td>\n",
       "      <td>8</td>\n",
       "    </tr>\n",
       "    <tr>\n",
       "      <th>1</th>\n",
       "      <td>0</td>\n",
       "      <td>0</td>\n",
       "      <td>0</td>\n",
       "      <td>0</td>\n",
       "      <td>0</td>\n",
       "      <td>0</td>\n",
       "      <td>0</td>\n",
       "      <td>0</td>\n",
       "      <td>0</td>\n",
       "      <td>0</td>\n",
       "      <td>...</td>\n",
       "      <td>0</td>\n",
       "      <td>0</td>\n",
       "      <td>0</td>\n",
       "      <td>0</td>\n",
       "      <td>0</td>\n",
       "      <td>0</td>\n",
       "      <td>0</td>\n",
       "      <td>0</td>\n",
       "      <td>0</td>\n",
       "      <td>8</td>\n",
       "    </tr>\n",
       "    <tr>\n",
       "      <th>2</th>\n",
       "      <td>0</td>\n",
       "      <td>0</td>\n",
       "      <td>0</td>\n",
       "      <td>0</td>\n",
       "      <td>0</td>\n",
       "      <td>0</td>\n",
       "      <td>0</td>\n",
       "      <td>0</td>\n",
       "      <td>0</td>\n",
       "      <td>0</td>\n",
       "      <td>...</td>\n",
       "      <td>0</td>\n",
       "      <td>0</td>\n",
       "      <td>0</td>\n",
       "      <td>0</td>\n",
       "      <td>0</td>\n",
       "      <td>0</td>\n",
       "      <td>0</td>\n",
       "      <td>0</td>\n",
       "      <td>0</td>\n",
       "      <td>8</td>\n",
       "    </tr>\n",
       "    <tr>\n",
       "      <th>3</th>\n",
       "      <td>0</td>\n",
       "      <td>0</td>\n",
       "      <td>0</td>\n",
       "      <td>0</td>\n",
       "      <td>0</td>\n",
       "      <td>0</td>\n",
       "      <td>0</td>\n",
       "      <td>0</td>\n",
       "      <td>0</td>\n",
       "      <td>0</td>\n",
       "      <td>...</td>\n",
       "      <td>0</td>\n",
       "      <td>0</td>\n",
       "      <td>0</td>\n",
       "      <td>0</td>\n",
       "      <td>0</td>\n",
       "      <td>0</td>\n",
       "      <td>0</td>\n",
       "      <td>0</td>\n",
       "      <td>0</td>\n",
       "      <td>8</td>\n",
       "    </tr>\n",
       "    <tr>\n",
       "      <th>4</th>\n",
       "      <td>0</td>\n",
       "      <td>0</td>\n",
       "      <td>0</td>\n",
       "      <td>0</td>\n",
       "      <td>0</td>\n",
       "      <td>0</td>\n",
       "      <td>0</td>\n",
       "      <td>0</td>\n",
       "      <td>0</td>\n",
       "      <td>0</td>\n",
       "      <td>...</td>\n",
       "      <td>0</td>\n",
       "      <td>0</td>\n",
       "      <td>0</td>\n",
       "      <td>0</td>\n",
       "      <td>0</td>\n",
       "      <td>0</td>\n",
       "      <td>0</td>\n",
       "      <td>0</td>\n",
       "      <td>0</td>\n",
       "      <td>8</td>\n",
       "    </tr>\n",
       "    <tr>\n",
       "      <th>...</th>\n",
       "      <td>...</td>\n",
       "      <td>...</td>\n",
       "      <td>...</td>\n",
       "      <td>...</td>\n",
       "      <td>...</td>\n",
       "      <td>...</td>\n",
       "      <td>...</td>\n",
       "      <td>...</td>\n",
       "      <td>...</td>\n",
       "      <td>...</td>\n",
       "      <td>...</td>\n",
       "      <td>...</td>\n",
       "      <td>...</td>\n",
       "      <td>...</td>\n",
       "      <td>...</td>\n",
       "      <td>...</td>\n",
       "      <td>...</td>\n",
       "      <td>...</td>\n",
       "      <td>...</td>\n",
       "      <td>...</td>\n",
       "      <td>...</td>\n",
       "    </tr>\n",
       "    <tr>\n",
       "      <th>4995</th>\n",
       "      <td>0</td>\n",
       "      <td>0</td>\n",
       "      <td>0</td>\n",
       "      <td>0</td>\n",
       "      <td>0</td>\n",
       "      <td>0</td>\n",
       "      <td>0</td>\n",
       "      <td>0</td>\n",
       "      <td>0</td>\n",
       "      <td>0</td>\n",
       "      <td>...</td>\n",
       "      <td>0</td>\n",
       "      <td>0</td>\n",
       "      <td>0</td>\n",
       "      <td>0</td>\n",
       "      <td>0</td>\n",
       "      <td>0</td>\n",
       "      <td>0</td>\n",
       "      <td>0</td>\n",
       "      <td>0</td>\n",
       "      <td>6</td>\n",
       "    </tr>\n",
       "    <tr>\n",
       "      <th>4996</th>\n",
       "      <td>0</td>\n",
       "      <td>0</td>\n",
       "      <td>0</td>\n",
       "      <td>0</td>\n",
       "      <td>0</td>\n",
       "      <td>0</td>\n",
       "      <td>0</td>\n",
       "      <td>0</td>\n",
       "      <td>0</td>\n",
       "      <td>0</td>\n",
       "      <td>...</td>\n",
       "      <td>0</td>\n",
       "      <td>0</td>\n",
       "      <td>0</td>\n",
       "      <td>0</td>\n",
       "      <td>0</td>\n",
       "      <td>0</td>\n",
       "      <td>0</td>\n",
       "      <td>0</td>\n",
       "      <td>0</td>\n",
       "      <td>6</td>\n",
       "    </tr>\n",
       "    <tr>\n",
       "      <th>4997</th>\n",
       "      <td>0</td>\n",
       "      <td>0</td>\n",
       "      <td>0</td>\n",
       "      <td>0</td>\n",
       "      <td>0</td>\n",
       "      <td>0</td>\n",
       "      <td>0</td>\n",
       "      <td>0</td>\n",
       "      <td>0</td>\n",
       "      <td>0</td>\n",
       "      <td>...</td>\n",
       "      <td>0</td>\n",
       "      <td>0</td>\n",
       "      <td>0</td>\n",
       "      <td>0</td>\n",
       "      <td>0</td>\n",
       "      <td>0</td>\n",
       "      <td>0</td>\n",
       "      <td>0</td>\n",
       "      <td>0</td>\n",
       "      <td>6</td>\n",
       "    </tr>\n",
       "    <tr>\n",
       "      <th>4998</th>\n",
       "      <td>0</td>\n",
       "      <td>0</td>\n",
       "      <td>0</td>\n",
       "      <td>0</td>\n",
       "      <td>0</td>\n",
       "      <td>0</td>\n",
       "      <td>0</td>\n",
       "      <td>0</td>\n",
       "      <td>0</td>\n",
       "      <td>0</td>\n",
       "      <td>...</td>\n",
       "      <td>0</td>\n",
       "      <td>0</td>\n",
       "      <td>0</td>\n",
       "      <td>0</td>\n",
       "      <td>0</td>\n",
       "      <td>0</td>\n",
       "      <td>0</td>\n",
       "      <td>0</td>\n",
       "      <td>0</td>\n",
       "      <td>6</td>\n",
       "    </tr>\n",
       "    <tr>\n",
       "      <th>4999</th>\n",
       "      <td>0</td>\n",
       "      <td>0</td>\n",
       "      <td>0</td>\n",
       "      <td>0</td>\n",
       "      <td>0</td>\n",
       "      <td>0</td>\n",
       "      <td>0</td>\n",
       "      <td>0</td>\n",
       "      <td>0</td>\n",
       "      <td>0</td>\n",
       "      <td>...</td>\n",
       "      <td>0</td>\n",
       "      <td>0</td>\n",
       "      <td>0</td>\n",
       "      <td>0</td>\n",
       "      <td>0</td>\n",
       "      <td>0</td>\n",
       "      <td>0</td>\n",
       "      <td>0</td>\n",
       "      <td>0</td>\n",
       "      <td>6</td>\n",
       "    </tr>\n",
       "  </tbody>\n",
       "</table>\n",
       "<p>5000 rows × 785 columns</p>\n",
       "</div>"
      ],
      "text/plain": [
       "      0  1  2  3  4  5  6  7  8  9  ...  775  776  777  778  779  780  781  \\\n",
       "0     0  0  0  0  0  0  0  0  0  0  ...    0    0    0    0    0    0    0   \n",
       "1     0  0  0  0  0  0  0  0  0  0  ...    0    0    0    0    0    0    0   \n",
       "2     0  0  0  0  0  0  0  0  0  0  ...    0    0    0    0    0    0    0   \n",
       "3     0  0  0  0  0  0  0  0  0  0  ...    0    0    0    0    0    0    0   \n",
       "4     0  0  0  0  0  0  0  0  0  0  ...    0    0    0    0    0    0    0   \n",
       "...  .. .. .. .. .. .. .. .. .. ..  ...  ...  ...  ...  ...  ...  ...  ...   \n",
       "4995  0  0  0  0  0  0  0  0  0  0  ...    0    0    0    0    0    0    0   \n",
       "4996  0  0  0  0  0  0  0  0  0  0  ...    0    0    0    0    0    0    0   \n",
       "4997  0  0  0  0  0  0  0  0  0  0  ...    0    0    0    0    0    0    0   \n",
       "4998  0  0  0  0  0  0  0  0  0  0  ...    0    0    0    0    0    0    0   \n",
       "4999  0  0  0  0  0  0  0  0  0  0  ...    0    0    0    0    0    0    0   \n",
       "\n",
       "      782  783  labels  \n",
       "0       0    0       8  \n",
       "1       0    0       8  \n",
       "2       0    0       8  \n",
       "3       0    0       8  \n",
       "4       0    0       8  \n",
       "...   ...  ...     ...  \n",
       "4995    0    0       6  \n",
       "4996    0    0       6  \n",
       "4997    0    0       6  \n",
       "4998    0    0       6  \n",
       "4999    0    0       6  \n",
       "\n",
       "[5000 rows x 785 columns]"
      ]
     },
     "execution_count": 7,
     "metadata": {},
     "output_type": "execute_result"
    }
   ],
   "source": [
    "all_images"
   ]
  },
  {
   "cell_type": "code",
   "execution_count": 8,
   "id": "fe4d3404-59a8-4801-b2d0-581f2eb15c3b",
   "metadata": {},
   "outputs": [
    {
     "name": "stdout",
     "output_type": "stream",
     "text": [
      "(5000, 784)\n",
      "(5000,)\n"
     ]
    }
   ],
   "source": [
    "# X, y분리\n",
    "X = all_images.iloc[:, :-1].astype(int)\n",
    "y = all_images.iloc[:, -1].astype(int)\n",
    "print(X.shape)\n",
    "print(y.shape)"
   ]
  },
  {
   "cell_type": "code",
   "execution_count": 9,
   "id": "1c6c08c6-f305-4842-b442-c05692d2a0cc",
   "metadata": {},
   "outputs": [],
   "source": [
    "x_train, x_test, y_train, y_test = train_test_split(X, y,\n",
    "                                                  test_size=0.2,\n",
    "                                                  random_state=111)"
   ]
  },
  {
   "cell_type": "markdown",
   "id": "82f28a13-ae8f-490c-8904-6d498a1157ff",
   "metadata": {
    "id": "Du5KAU8COICG"
   },
   "source": [
    "### 데이터 전처리\n",
    "- Normalization"
   ]
  },
  {
   "cell_type": "code",
   "execution_count": 10,
   "id": "585c608f-846b-4747-a33e-d1ff89c7484d",
   "metadata": {
    "id": "CMvKiV6POJaR"
   },
   "outputs": [],
   "source": [
    "#정규화\n",
    "x_train = x_train /255.\n",
    "x_test = x_test /255.\n"
   ]
  },
  {
   "cell_type": "code",
   "execution_count": 11,
   "id": "5f7b5a98-0bcf-4ef4-af7e-276586c17c62",
   "metadata": {
    "id": "bMuBGKWxP7DM"
   },
   "outputs": [],
   "source": [
    "#0~10까지이므로 \n",
    "\n",
    "y_train = to_categorical(y_train)\n",
    "y_test = to_categorical(y_test)\n"
   ]
  },
  {
   "cell_type": "markdown",
   "id": "4b3f92ca-2e53-45e4-9b79-b9752981b55d",
   "metadata": {
    "id": "S9ke94boKfre"
   },
   "source": [
    "### 모델 구성 (Sequential)"
   ]
  },
  {
   "cell_type": "code",
   "execution_count": 12,
   "id": "ccd65c76-2353-4af6-8846-25506fe5d022",
   "metadata": {
    "id": "ZBfX4bt52UoZ"
   },
   "outputs": [
    {
     "name": "stdout",
     "output_type": "stream",
     "text": [
      "Metal device set to: Apple M1\n"
     ]
    },
    {
     "name": "stderr",
     "output_type": "stream",
     "text": [
      "2021-11-15 22:29:01.526785: I tensorflow/core/common_runtime/pluggable_device/pluggable_device_factory.cc:305] Could not identify NUMA node of platform GPU ID 0, defaulting to 0. Your kernel may not have been built with NUMA support.\n",
      "2021-11-15 22:29:01.526870: I tensorflow/core/common_runtime/pluggable_device/pluggable_device_factory.cc:271] Created TensorFlow device (/job:localhost/replica:0/task:0/device:GPU:0 with 0 MB memory) -> physical PluggableDevice (device: 0, name: METAL, pci bus id: <undefined>)\n"
     ]
    }
   ],
   "source": [
    "model = Sequential([Input(shape=(784,), name='input'),\n",
    "                    Dense(128, activation='relu', name='Dense1'),\n",
    "                    Dense(64, activation='relu', name='Dense2'),\n",
    "                    Dense(32, activation='relu', name='Dense3'),\n",
    "                    Dense(10, activation='softmax', name='output')])\n",
    "                    "
   ]
  },
  {
   "cell_type": "code",
   "execution_count": 13,
   "id": "10e4f19b-9176-4334-9d1a-9e545a88caca",
   "metadata": {
    "id": "QYsY9ghjO0RW"
   },
   "outputs": [
    {
     "name": "stdout",
     "output_type": "stream",
     "text": [
      "Model: \"sequential\"\n",
      "_________________________________________________________________\n",
      "Layer (type)                 Output Shape              Param #   \n",
      "=================================================================\n",
      "Dense1 (Dense)               (None, 128)               100480    \n",
      "_________________________________________________________________\n",
      "Dense2 (Dense)               (None, 64)                8256      \n",
      "_________________________________________________________________\n",
      "Dense3 (Dense)               (None, 32)                2080      \n",
      "_________________________________________________________________\n",
      "output (Dense)               (None, 10)                330       \n",
      "=================================================================\n",
      "Total params: 111,146\n",
      "Trainable params: 111,146\n",
      "Non-trainable params: 0\n",
      "_________________________________________________________________\n"
     ]
    }
   ],
   "source": [
    "model.summary()"
   ]
  },
  {
   "cell_type": "code",
   "execution_count": 14,
   "id": "d0a7bab3-b440-4e6d-8f70-057c329879c2",
   "metadata": {
    "id": "KW7h-7mR26Xf"
   },
   "outputs": [
    {
     "data": {
      "image/png": "[encoded data removed]",
      "text/plain": [
       "<IPython.core.display.Image object>"
      ]
     },
     "execution_count": 14,
     "metadata": {},
     "output_type": "execute_result"
    }
   ],
   "source": [
    "plot_model(model, show_shapes=True)"
   ]
  },
  {
   "cell_type": "markdown",
   "id": "5f35552d-9c7e-4d07-b2eb-07335a0bc1c4",
   "metadata": {
    "id": "ttXdLuQsQE_k"
   },
   "source": [
    "### 모델 컴파일"
   ]
  },
  {
   "cell_type": "code",
   "execution_count": 15,
   "id": "07060971-7375-41ea-8633-52b4eb847970",
   "metadata": {},
   "outputs": [],
   "source": [
    "early_stop = EarlyStopping(monitor='val_loss', patience=10)"
   ]
  },
  {
   "cell_type": "code",
   "execution_count": 16,
   "id": "ec1e3d73-db4e-4b33-b667-dbff27399d4d",
   "metadata": {},
   "outputs": [],
   "source": [
    "model.compile(loss='categorical_crossentropy',\n",
    "               optimizer=Adam(learning_rate=0.01),\n",
    "               metrics=['accuracy'])"
   ]
  },
  {
   "cell_type": "code",
   "execution_count": 17,
   "id": "258f984e-ef5b-4e18-9e68-957e2c5a62fa",
   "metadata": {
    "id": "EXld9Ehd2UJW"
   },
   "outputs": [],
   "source": [
    "# model.compile(loss='categorical_crossentropy', \n",
    "#               optimizer='sgd',\n",
    "#               metrics=['accuracy'])"
   ]
  },
  {
   "cell_type": "markdown",
   "id": "f1aba60e-ce7e-444e-84d7-41b88f46068f",
   "metadata": {
    "id": "TeRlwrsNQUP_"
   },
   "source": [
    "### 모델 학습\n",
    "- 모델 시각화를 위해 history라는 변수에 학습 과정을 담음"
   ]
  },
  {
   "cell_type": "code",
   "execution_count": 18,
   "id": "180fa8fc-1e3e-4fe4-8762-e31e3b09639c",
   "metadata": {
    "id": "5TaYebESQT0X"
   },
   "outputs": [
    {
     "name": "stderr",
     "output_type": "stream",
     "text": [
      "2021-11-15 22:29:01.798329: I tensorflow/compiler/mlir/mlir_graph_optimization_pass.cc:185] None of the MLIR Optimization Passes are enabled (registered 2)\n",
      "2021-11-15 22:29:01.798506: W tensorflow/core/platform/profile_utils/cpu_utils.cc:128] Failed to get CPU frequency: 0 Hz\n",
      "2021-11-15 22:29:01.913937: I tensorflow/core/grappler/optimizers/custom_graph_optimizer_registry.cc:112] Plugin optimizer for device_type GPU is enabled.\n"
     ]
    },
    {
     "name": "stdout",
     "output_type": "stream",
     "text": [
      "Epoch 1/20\n",
      "32/32 [==============================] - 1s 11ms/step - loss: 2.2278 - accuracy: 0.1670 - val_loss: 2.1257 - val_accuracy: 0.2300\n",
      "Epoch 2/20\n",
      "18/32 [===============>..............] - ETA: 0s - loss: 1.6954 - accuracy: 0.4280"
     ]
    },
    {
     "name": "stderr",
     "output_type": "stream",
     "text": [
      "2021-11-15 22:29:02.264427: I tensorflow/core/grappler/optimizers/custom_graph_optimizer_registry.cc:112] Plugin optimizer for device_type GPU is enabled.\n"
     ]
    },
    {
     "name": "stdout",
     "output_type": "stream",
     "text": [
      "32/32 [==============================] - 0s 7ms/step - loss: 1.6767 - accuracy: 0.4315 - val_loss: 2.0050 - val_accuracy: 0.3150\n",
      "Epoch 3/20\n",
      "32/32 [==============================] - 0s 7ms/step - loss: 1.0062 - accuracy: 0.6608 - val_loss: 2.1589 - val_accuracy: 0.3300\n",
      "Epoch 4/20\n",
      "32/32 [==============================] - 0s 8ms/step - loss: 0.4960 - accuracy: 0.8380 - val_loss: 2.7846 - val_accuracy: 0.3570\n",
      "Epoch 5/20\n",
      "32/32 [==============================] - 0s 7ms/step - loss: 0.2099 - accuracy: 0.9335 - val_loss: 3.2846 - val_accuracy: 0.3500\n",
      "Epoch 6/20\n",
      "32/32 [==============================] - 0s 8ms/step - loss: 0.1183 - accuracy: 0.9648 - val_loss: 3.8184 - val_accuracy: 0.3610\n",
      "Epoch 7/20\n",
      "32/32 [==============================] - 0s 7ms/step - loss: 0.0837 - accuracy: 0.9743 - val_loss: 4.1405 - val_accuracy: 0.3590\n",
      "Epoch 8/20\n",
      "32/32 [==============================] - 0s 8ms/step - loss: 0.0593 - accuracy: 0.9820 - val_loss: 4.4466 - val_accuracy: 0.3640\n",
      "Epoch 9/20\n",
      "32/32 [==============================] - 0s 8ms/step - loss: 0.0373 - accuracy: 0.9883 - val_loss: 5.1758 - val_accuracy: 0.3620\n",
      "Epoch 10/20\n",
      "32/32 [==============================] - 0s 7ms/step - loss: 0.0551 - accuracy: 0.9828 - val_loss: 5.3812 - val_accuracy: 0.3610\n",
      "Epoch 11/20\n",
      "32/32 [==============================] - 0s 8ms/step - loss: 0.1504 - accuracy: 0.9510 - val_loss: 5.0393 - val_accuracy: 0.3470\n",
      "Epoch 12/20\n",
      "32/32 [==============================] - 0s 9ms/step - loss: 0.2398 - accuracy: 0.9183 - val_loss: 4.4059 - val_accuracy: 0.3330\n"
     ]
    }
   ],
   "source": [
    "history = model.fit(x_train, y_train,\n",
    "                    epochs=20,\n",
    "                    batch_size=128,callbacks=[early_stop],\n",
    "                    validation_data=(x_test, y_test))"
   ]
  },
  {
   "cell_type": "markdown",
   "id": "100b1ba0-03ff-4b3b-8fe1-1c066db6d25e",
   "metadata": {
    "id": "0XaPJX7sRVzi"
   },
   "source": [
    "### 학습 결과 시각화"
   ]
  },
  {
   "cell_type": "code",
   "execution_count": 19,
   "id": "1068d406-b740-48d6-b5e7-305c25065255",
   "metadata": {
    "id": "vAnCqu9ARVTw"
   },
   "outputs": [
    {
     "data": {
      "text/plain": [
       "dict_keys(['loss', 'accuracy', 'val_loss', 'val_accuracy'])"
      ]
     },
     "execution_count": 19,
     "metadata": {},
     "output_type": "execute_result"
    }
   ],
   "source": [
    "history.history.keys()"
   ]
  },
  {
   "cell_type": "code",
   "execution_count": 20,
   "id": "61ba5854-af7d-4d2e-9727-59a0044ad933",
   "metadata": {
    "id": "MHfJkN2lRVOc"
   },
   "outputs": [
    {
     "data": {
      "image/png": "[encoded data removed]",
      "text/plain": [
       "<Figure size 864x432 with 2 Axes>"
      ]
     },
     "metadata": {},
     "output_type": "display_data"
    }
   ],
   "source": [
    "history_dict = history.history\n",
    "\n",
    "loss = history_dict['loss']\n",
    "val_loss = history_dict['val_loss']\n",
    "\n",
    "epochs =range(1, len(loss) +1)\n",
    "fig = plt.figure(figsize=(12,6))\n",
    "\n",
    "ax1 = fig.add_subplot(1, 2, 1)\n",
    "ax1.plot(epochs, loss, color='blue', label ='train_loss')\n",
    "ax1.plot(epochs, val_loss, color='red', label='val_loss')\n",
    "ax1.set_title('Train and Validation loss')\n",
    "ax1.set_xlabel('Epoch')\n",
    "ax1.set_ylabel('Loss')\n",
    "ax1.grid()\n",
    "ax1.legend()\n",
    "\n",
    "\n",
    "accuracy = history_dict['accuracy']\n",
    "val_accuracy = history_dict['val_accuracy']\n",
    "\n",
    "ax2 = fig.add_subplot(1, 2, 2)\n",
    "ax2.plot(epochs, accuracy, color='blue', label ='train_acc')\n",
    "ax2.plot(epochs, val_accuracy, color='red', label='val_acc')\n",
    "ax2.set_title('Train and Validation acc')\n",
    "ax2.set_xlabel('Epoch')\n",
    "ax2.set_ylabel('acc')\n",
    "ax2.grid()\n",
    "ax2.legend()\n",
    "\n",
    "plt.show()"
   ]
  },
  {
   "cell_type": "markdown",
   "id": "fd02c4c7-61c5-4f6d-99e2-ca8cbd1148ad",
   "metadata": {
    "id": "Gwl7tQLcTZnW"
   },
   "source": [
    "### 모델 평가 (1)\n",
    "- evaluate"
   ]
  },
  {
   "cell_type": "code",
   "execution_count": 21,
   "id": "af348936-d8b4-4ba4-878c-f881e6e40c9f",
   "metadata": {
    "id": "gX7HcpeoTZGU"
   },
   "outputs": [
    {
     "name": "stdout",
     "output_type": "stream",
     "text": [
      "32/32 [==============================] - 0s 6ms/step - loss: 4.4059 - accuracy: 0.3330\n"
     ]
    },
    {
     "data": {
      "text/plain": [
       "[4.4058966636657715, 0.3330000042915344]"
      ]
     },
     "execution_count": 21,
     "metadata": {},
     "output_type": "execute_result"
    }
   ],
   "source": [
    "model.evaluate(x_test, y_test)"
   ]
  },
  {
   "cell_type": "code",
   "execution_count": 22,
   "id": "cb52f9b4-0902-4e2f-a4a8-d58975c6cef8",
   "metadata": {},
   "outputs": [],
   "source": [
    "def compute_acc(true, pred):\n",
    "    return sum(true == pred) / len(true)"
   ]
  },
  {
   "cell_type": "code",
   "execution_count": 23,
   "id": "3c28291d-59de-452c-a567-f52eb098d3ef",
   "metadata": {},
   "outputs": [
    {
     "name": "stderr",
     "output_type": "stream",
     "text": [
      "2021-11-15 22:29:05.450862: I tensorflow/core/grappler/optimizers/custom_graph_optimizer_registry.cc:112] Plugin optimizer for device_type GPU is enabled.\n"
     ]
    },
    {
     "data": {
      "text/plain": [
       "0.3908"
      ]
     },
     "execution_count": 23,
     "metadata": {},
     "output_type": "execute_result"
    }
   ],
   "source": [
    "pred_ys = model.predict(X)\n",
    "arg_pred_y =np.argmax(pred_ys, axis=1)\n",
    "compute_acc(y, arg_pred_y)"
   ]
  },
  {
   "cell_type": "markdown",
   "id": "2880e45e-65d5-48e5-9888-c6a04ab4f9d5",
   "metadata": {},
   "source": [
    "### 제출"
   ]
  },
  {
   "cell_type": "code",
   "execution_count": 24,
   "id": "00642cce-0ec9-46f7-a697-a04db94be2d4",
   "metadata": {},
   "outputs": [],
   "source": [
    "test_df = pd.read_csv('/Users/spark/OneDrive/ps/Dacon/Mnist/dataset/test/test_data.csv') # test_data.csv 불러오기\n",
    "test_file_dir = '/Users/spark/OneDrive/ps/Dacon/Mnist/dataset/test/'"
   ]
  },
  {
   "cell_type": "code",
   "execution_count": 25,
   "id": "475140fa-001d-4e1e-a134-89e7110a1e0e",
   "metadata": {},
   "outputs": [],
   "source": [
    "images = []\n",
    "\n",
    "for image_name in train['file_name']:\n",
    "    image = np.array(Image.open(file_dir + image_name)).flatten()\n",
    "    images.append(image)"
   ]
  },
  {
   "cell_type": "code",
   "execution_count": 26,
   "id": "90b41af3-3ed3-4e4f-9478-8c24f23e0d2a",
   "metadata": {},
   "outputs": [],
   "source": [
    "test_images = pd.DataFrame(images)\n",
    "test_images = test_images/255."
   ]
  },
  {
   "cell_type": "code",
   "execution_count": 27,
   "id": "88d93103-ad93-468e-8e3d-31e6d6a62606",
   "metadata": {},
   "outputs": [
    {
     "name": "stderr",
     "output_type": "stream",
     "text": [
      "2021-11-15 22:29:06.799092: I tensorflow/core/grappler/optimizers/custom_graph_optimizer_registry.cc:112] Plugin optimizer for device_type GPU is enabled.\n"
     ]
    }
   ],
   "source": [
    "preds = model.predict(test_images)\n",
    "arg_preds =np.argmax(preds, axis=1)"
   ]
  },
  {
   "cell_type": "code",
   "execution_count": 28,
   "id": "fca3b22a-0796-4b43-b725-1a3b22a8c720",
   "metadata": {},
   "outputs": [],
   "source": [
    "submission = pd.read_csv('/Users/spark/OneDrive/ps/Dacon/Mnist/dataset/sample_submission.csv') # sample submission 불러오기\n",
    "\n",
    "submission['label'] = arg_preds\n",
    "\n",
    "submission.to_csv('submission.csv', index=False)"
   ]
  }
 ],
 "metadata": {
  "kernelspec": {
   "display_name": "Python 3 (ipykernel)",
   "language": "python",
   "name": "python3"
  },
  "language_info": {
   "codemirror_mode": {
    "name": "ipython",
    "version": 3
   },
   "file_extension": ".py",
   "mimetype": "text/x-python",
   "name": "python",
   "nbconvert_exporter": "python",
   "pygments_lexer": "ipython3",
   "version": "3.9.7"
  }
 },
 "nbformat": 4,
 "nbformat_minor": 5
}
